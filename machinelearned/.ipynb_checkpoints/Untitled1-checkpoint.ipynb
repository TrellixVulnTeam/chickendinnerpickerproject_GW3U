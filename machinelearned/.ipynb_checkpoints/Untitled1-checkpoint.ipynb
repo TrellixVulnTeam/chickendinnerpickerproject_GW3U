{
 "cells": [
  {
   "cell_type": "code",
   "execution_count": 1,
   "metadata": {},
   "outputs": [
    {
     "name": "stderr",
     "output_type": "stream",
     "text": [
      "Using TensorFlow backend.\n"
     ]
    }
   ],
   "source": [
    "from keras.applications.vgg16 import VGG16,preprocess_input"
   ]
  },
  {
   "cell_type": "code",
   "execution_count": 2,
   "metadata": {},
   "outputs": [],
   "source": [
    "import keras\n",
    "from keras.layers import Flatten,Dense\n",
    "from keras.models import Model\n",
    "from keras.preprocessing.image import ImageDataGenerator"
   ]
  },
  {
   "cell_type": "code",
   "execution_count": 3,
   "metadata": {},
   "outputs": [],
   "source": [
    "image_size = [100,100]"
   ]
  },
  {
   "cell_type": "code",
   "execution_count": 4,
   "metadata": {},
   "outputs": [
    {
     "name": "stdout",
     "output_type": "stream",
     "text": [
      "Downloading data from https://github.com/fchollet/deep-learning-models/releases/download/v0.1/vgg16_weights_tf_dim_ordering_tf_kernels_notop.h5\n"
     ]
    },
    {
     "ename": "Exception",
     "evalue": "URL fetch failure on https://github.com/fchollet/deep-learning-models/releases/download/v0.1/vgg16_weights_tf_dim_ordering_tf_kernels_notop.h5: None -- [Errno 11001] getaddrinfo failed",
     "output_type": "error",
     "traceback": [
      "\u001b[1;31m---------------------------------------------------------------------------\u001b[0m",
      "\u001b[1;31mgaierror\u001b[0m                                  Traceback (most recent call last)",
      "\u001b[1;32mc:\\users\\asus\\appdata\\local\\programs\\python\\python36\\lib\\urllib\\request.py\u001b[0m in \u001b[0;36mdo_open\u001b[1;34m(self, http_class, req, **http_conn_args)\u001b[0m\n\u001b[0;32m   1317\u001b[0m                 h.request(req.get_method(), req.selector, req.data, headers,\n\u001b[1;32m-> 1318\u001b[1;33m                           encode_chunked=req.has_header('Transfer-encoding'))\n\u001b[0m\u001b[0;32m   1319\u001b[0m             \u001b[1;32mexcept\u001b[0m \u001b[0mOSError\u001b[0m \u001b[1;32mas\u001b[0m \u001b[0merr\u001b[0m\u001b[1;33m:\u001b[0m \u001b[1;31m# timeout error\u001b[0m\u001b[1;33m\u001b[0m\u001b[1;33m\u001b[0m\u001b[0m\n",
      "\u001b[1;32mc:\\users\\asus\\appdata\\local\\programs\\python\\python36\\lib\\http\\client.py\u001b[0m in \u001b[0;36mrequest\u001b[1;34m(self, method, url, body, headers, encode_chunked)\u001b[0m\n\u001b[0;32m   1238\u001b[0m         \u001b[1;34m\"\"\"Send a complete request to the server.\"\"\"\u001b[0m\u001b[1;33m\u001b[0m\u001b[1;33m\u001b[0m\u001b[0m\n\u001b[1;32m-> 1239\u001b[1;33m         \u001b[0mself\u001b[0m\u001b[1;33m.\u001b[0m\u001b[0m_send_request\u001b[0m\u001b[1;33m(\u001b[0m\u001b[0mmethod\u001b[0m\u001b[1;33m,\u001b[0m \u001b[0murl\u001b[0m\u001b[1;33m,\u001b[0m \u001b[0mbody\u001b[0m\u001b[1;33m,\u001b[0m \u001b[0mheaders\u001b[0m\u001b[1;33m,\u001b[0m \u001b[0mencode_chunked\u001b[0m\u001b[1;33m)\u001b[0m\u001b[1;33m\u001b[0m\u001b[1;33m\u001b[0m\u001b[0m\n\u001b[0m\u001b[0;32m   1240\u001b[0m \u001b[1;33m\u001b[0m\u001b[0m\n",
      "\u001b[1;32mc:\\users\\asus\\appdata\\local\\programs\\python\\python36\\lib\\http\\client.py\u001b[0m in \u001b[0;36m_send_request\u001b[1;34m(self, method, url, body, headers, encode_chunked)\u001b[0m\n\u001b[0;32m   1284\u001b[0m             \u001b[0mbody\u001b[0m \u001b[1;33m=\u001b[0m \u001b[0m_encode\u001b[0m\u001b[1;33m(\u001b[0m\u001b[0mbody\u001b[0m\u001b[1;33m,\u001b[0m \u001b[1;34m'body'\u001b[0m\u001b[1;33m)\u001b[0m\u001b[1;33m\u001b[0m\u001b[1;33m\u001b[0m\u001b[0m\n\u001b[1;32m-> 1285\u001b[1;33m         \u001b[0mself\u001b[0m\u001b[1;33m.\u001b[0m\u001b[0mendheaders\u001b[0m\u001b[1;33m(\u001b[0m\u001b[0mbody\u001b[0m\u001b[1;33m,\u001b[0m \u001b[0mencode_chunked\u001b[0m\u001b[1;33m=\u001b[0m\u001b[0mencode_chunked\u001b[0m\u001b[1;33m)\u001b[0m\u001b[1;33m\u001b[0m\u001b[1;33m\u001b[0m\u001b[0m\n\u001b[0m\u001b[0;32m   1286\u001b[0m \u001b[1;33m\u001b[0m\u001b[0m\n",
      "\u001b[1;32mc:\\users\\asus\\appdata\\local\\programs\\python\\python36\\lib\\http\\client.py\u001b[0m in \u001b[0;36mendheaders\u001b[1;34m(self, message_body, encode_chunked)\u001b[0m\n\u001b[0;32m   1233\u001b[0m             \u001b[1;32mraise\u001b[0m \u001b[0mCannotSendHeader\u001b[0m\u001b[1;33m(\u001b[0m\u001b[1;33m)\u001b[0m\u001b[1;33m\u001b[0m\u001b[1;33m\u001b[0m\u001b[0m\n\u001b[1;32m-> 1234\u001b[1;33m         \u001b[0mself\u001b[0m\u001b[1;33m.\u001b[0m\u001b[0m_send_output\u001b[0m\u001b[1;33m(\u001b[0m\u001b[0mmessage_body\u001b[0m\u001b[1;33m,\u001b[0m \u001b[0mencode_chunked\u001b[0m\u001b[1;33m=\u001b[0m\u001b[0mencode_chunked\u001b[0m\u001b[1;33m)\u001b[0m\u001b[1;33m\u001b[0m\u001b[1;33m\u001b[0m\u001b[0m\n\u001b[0m\u001b[0;32m   1235\u001b[0m \u001b[1;33m\u001b[0m\u001b[0m\n",
      "\u001b[1;32mc:\\users\\asus\\appdata\\local\\programs\\python\\python36\\lib\\http\\client.py\u001b[0m in \u001b[0;36m_send_output\u001b[1;34m(self, message_body, encode_chunked)\u001b[0m\n\u001b[0;32m   1025\u001b[0m         \u001b[1;32mdel\u001b[0m \u001b[0mself\u001b[0m\u001b[1;33m.\u001b[0m\u001b[0m_buffer\u001b[0m\u001b[1;33m[\u001b[0m\u001b[1;33m:\u001b[0m\u001b[1;33m]\u001b[0m\u001b[1;33m\u001b[0m\u001b[1;33m\u001b[0m\u001b[0m\n\u001b[1;32m-> 1026\u001b[1;33m         \u001b[0mself\u001b[0m\u001b[1;33m.\u001b[0m\u001b[0msend\u001b[0m\u001b[1;33m(\u001b[0m\u001b[0mmsg\u001b[0m\u001b[1;33m)\u001b[0m\u001b[1;33m\u001b[0m\u001b[1;33m\u001b[0m\u001b[0m\n\u001b[0m\u001b[0;32m   1027\u001b[0m \u001b[1;33m\u001b[0m\u001b[0m\n",
      "\u001b[1;32mc:\\users\\asus\\appdata\\local\\programs\\python\\python36\\lib\\http\\client.py\u001b[0m in \u001b[0;36msend\u001b[1;34m(self, data)\u001b[0m\n\u001b[0;32m    963\u001b[0m             \u001b[1;32mif\u001b[0m \u001b[0mself\u001b[0m\u001b[1;33m.\u001b[0m\u001b[0mauto_open\u001b[0m\u001b[1;33m:\u001b[0m\u001b[1;33m\u001b[0m\u001b[1;33m\u001b[0m\u001b[0m\n\u001b[1;32m--> 964\u001b[1;33m                 \u001b[0mself\u001b[0m\u001b[1;33m.\u001b[0m\u001b[0mconnect\u001b[0m\u001b[1;33m(\u001b[0m\u001b[1;33m)\u001b[0m\u001b[1;33m\u001b[0m\u001b[1;33m\u001b[0m\u001b[0m\n\u001b[0m\u001b[0;32m    965\u001b[0m             \u001b[1;32melse\u001b[0m\u001b[1;33m:\u001b[0m\u001b[1;33m\u001b[0m\u001b[1;33m\u001b[0m\u001b[0m\n",
      "\u001b[1;32mc:\\users\\asus\\appdata\\local\\programs\\python\\python36\\lib\\http\\client.py\u001b[0m in \u001b[0;36mconnect\u001b[1;34m(self)\u001b[0m\n\u001b[0;32m   1391\u001b[0m \u001b[1;33m\u001b[0m\u001b[0m\n\u001b[1;32m-> 1392\u001b[1;33m             \u001b[0msuper\u001b[0m\u001b[1;33m(\u001b[0m\u001b[1;33m)\u001b[0m\u001b[1;33m.\u001b[0m\u001b[0mconnect\u001b[0m\u001b[1;33m(\u001b[0m\u001b[1;33m)\u001b[0m\u001b[1;33m\u001b[0m\u001b[1;33m\u001b[0m\u001b[0m\n\u001b[0m\u001b[0;32m   1393\u001b[0m \u001b[1;33m\u001b[0m\u001b[0m\n",
      "\u001b[1;32mc:\\users\\asus\\appdata\\local\\programs\\python\\python36\\lib\\http\\client.py\u001b[0m in \u001b[0;36mconnect\u001b[1;34m(self)\u001b[0m\n\u001b[0;32m    935\u001b[0m         self.sock = self._create_connection(\n\u001b[1;32m--> 936\u001b[1;33m             (self.host,self.port), self.timeout, self.source_address)\n\u001b[0m\u001b[0;32m    937\u001b[0m         \u001b[0mself\u001b[0m\u001b[1;33m.\u001b[0m\u001b[0msock\u001b[0m\u001b[1;33m.\u001b[0m\u001b[0msetsockopt\u001b[0m\u001b[1;33m(\u001b[0m\u001b[0msocket\u001b[0m\u001b[1;33m.\u001b[0m\u001b[0mIPPROTO_TCP\u001b[0m\u001b[1;33m,\u001b[0m \u001b[0msocket\u001b[0m\u001b[1;33m.\u001b[0m\u001b[0mTCP_NODELAY\u001b[0m\u001b[1;33m,\u001b[0m \u001b[1;36m1\u001b[0m\u001b[1;33m)\u001b[0m\u001b[1;33m\u001b[0m\u001b[1;33m\u001b[0m\u001b[0m\n",
      "\u001b[1;32mc:\\users\\asus\\appdata\\local\\programs\\python\\python36\\lib\\socket.py\u001b[0m in \u001b[0;36mcreate_connection\u001b[1;34m(address, timeout, source_address)\u001b[0m\n\u001b[0;32m    703\u001b[0m     \u001b[0merr\u001b[0m \u001b[1;33m=\u001b[0m \u001b[1;32mNone\u001b[0m\u001b[1;33m\u001b[0m\u001b[1;33m\u001b[0m\u001b[0m\n\u001b[1;32m--> 704\u001b[1;33m     \u001b[1;32mfor\u001b[0m \u001b[0mres\u001b[0m \u001b[1;32min\u001b[0m \u001b[0mgetaddrinfo\u001b[0m\u001b[1;33m(\u001b[0m\u001b[0mhost\u001b[0m\u001b[1;33m,\u001b[0m \u001b[0mport\u001b[0m\u001b[1;33m,\u001b[0m \u001b[1;36m0\u001b[0m\u001b[1;33m,\u001b[0m \u001b[0mSOCK_STREAM\u001b[0m\u001b[1;33m)\u001b[0m\u001b[1;33m:\u001b[0m\u001b[1;33m\u001b[0m\u001b[1;33m\u001b[0m\u001b[0m\n\u001b[0m\u001b[0;32m    705\u001b[0m         \u001b[0maf\u001b[0m\u001b[1;33m,\u001b[0m \u001b[0msocktype\u001b[0m\u001b[1;33m,\u001b[0m \u001b[0mproto\u001b[0m\u001b[1;33m,\u001b[0m \u001b[0mcanonname\u001b[0m\u001b[1;33m,\u001b[0m \u001b[0msa\u001b[0m \u001b[1;33m=\u001b[0m \u001b[0mres\u001b[0m\u001b[1;33m\u001b[0m\u001b[1;33m\u001b[0m\u001b[0m\n",
      "\u001b[1;32mc:\\users\\asus\\appdata\\local\\programs\\python\\python36\\lib\\socket.py\u001b[0m in \u001b[0;36mgetaddrinfo\u001b[1;34m(host, port, family, type, proto, flags)\u001b[0m\n\u001b[0;32m    744\u001b[0m     \u001b[0maddrlist\u001b[0m \u001b[1;33m=\u001b[0m \u001b[1;33m[\u001b[0m\u001b[1;33m]\u001b[0m\u001b[1;33m\u001b[0m\u001b[1;33m\u001b[0m\u001b[0m\n\u001b[1;32m--> 745\u001b[1;33m     \u001b[1;32mfor\u001b[0m \u001b[0mres\u001b[0m \u001b[1;32min\u001b[0m \u001b[0m_socket\u001b[0m\u001b[1;33m.\u001b[0m\u001b[0mgetaddrinfo\u001b[0m\u001b[1;33m(\u001b[0m\u001b[0mhost\u001b[0m\u001b[1;33m,\u001b[0m \u001b[0mport\u001b[0m\u001b[1;33m,\u001b[0m \u001b[0mfamily\u001b[0m\u001b[1;33m,\u001b[0m \u001b[0mtype\u001b[0m\u001b[1;33m,\u001b[0m \u001b[0mproto\u001b[0m\u001b[1;33m,\u001b[0m \u001b[0mflags\u001b[0m\u001b[1;33m)\u001b[0m\u001b[1;33m:\u001b[0m\u001b[1;33m\u001b[0m\u001b[1;33m\u001b[0m\u001b[0m\n\u001b[0m\u001b[0;32m    746\u001b[0m         \u001b[0maf\u001b[0m\u001b[1;33m,\u001b[0m \u001b[0msocktype\u001b[0m\u001b[1;33m,\u001b[0m \u001b[0mproto\u001b[0m\u001b[1;33m,\u001b[0m \u001b[0mcanonname\u001b[0m\u001b[1;33m,\u001b[0m \u001b[0msa\u001b[0m \u001b[1;33m=\u001b[0m \u001b[0mres\u001b[0m\u001b[1;33m\u001b[0m\u001b[1;33m\u001b[0m\u001b[0m\n",
      "\u001b[1;31mgaierror\u001b[0m: [Errno 11001] getaddrinfo failed",
      "\nDuring handling of the above exception, another exception occurred:\n",
      "\u001b[1;31mURLError\u001b[0m                                  Traceback (most recent call last)",
      "\u001b[1;32mc:\\users\\asus\\appdata\\local\\programs\\python\\python36\\lib\\site-packages\\keras\\utils\\data_utils.py\u001b[0m in \u001b[0;36mget_file\u001b[1;34m(fname, origin, untar, md5_hash, file_hash, cache_subdir, hash_algorithm, extract, archive_format, cache_dir)\u001b[0m\n\u001b[0;32m    221\u001b[0m             \u001b[1;32mtry\u001b[0m\u001b[1;33m:\u001b[0m\u001b[1;33m\u001b[0m\u001b[1;33m\u001b[0m\u001b[0m\n\u001b[1;32m--> 222\u001b[1;33m                 \u001b[0murlretrieve\u001b[0m\u001b[1;33m(\u001b[0m\u001b[0morigin\u001b[0m\u001b[1;33m,\u001b[0m \u001b[0mfpath\u001b[0m\u001b[1;33m,\u001b[0m \u001b[0mdl_progress\u001b[0m\u001b[1;33m)\u001b[0m\u001b[1;33m\u001b[0m\u001b[1;33m\u001b[0m\u001b[0m\n\u001b[0m\u001b[0;32m    223\u001b[0m             \u001b[1;32mexcept\u001b[0m \u001b[0mHTTPError\u001b[0m \u001b[1;32mas\u001b[0m \u001b[0me\u001b[0m\u001b[1;33m:\u001b[0m\u001b[1;33m\u001b[0m\u001b[1;33m\u001b[0m\u001b[0m\n",
      "\u001b[1;32mc:\\users\\asus\\appdata\\local\\programs\\python\\python36\\lib\\urllib\\request.py\u001b[0m in \u001b[0;36murlretrieve\u001b[1;34m(url, filename, reporthook, data)\u001b[0m\n\u001b[0;32m    247\u001b[0m \u001b[1;33m\u001b[0m\u001b[0m\n\u001b[1;32m--> 248\u001b[1;33m     \u001b[1;32mwith\u001b[0m \u001b[0mcontextlib\u001b[0m\u001b[1;33m.\u001b[0m\u001b[0mclosing\u001b[0m\u001b[1;33m(\u001b[0m\u001b[0murlopen\u001b[0m\u001b[1;33m(\u001b[0m\u001b[0murl\u001b[0m\u001b[1;33m,\u001b[0m \u001b[0mdata\u001b[0m\u001b[1;33m)\u001b[0m\u001b[1;33m)\u001b[0m \u001b[1;32mas\u001b[0m \u001b[0mfp\u001b[0m\u001b[1;33m:\u001b[0m\u001b[1;33m\u001b[0m\u001b[1;33m\u001b[0m\u001b[0m\n\u001b[0m\u001b[0;32m    249\u001b[0m         \u001b[0mheaders\u001b[0m \u001b[1;33m=\u001b[0m \u001b[0mfp\u001b[0m\u001b[1;33m.\u001b[0m\u001b[0minfo\u001b[0m\u001b[1;33m(\u001b[0m\u001b[1;33m)\u001b[0m\u001b[1;33m\u001b[0m\u001b[1;33m\u001b[0m\u001b[0m\n",
      "\u001b[1;32mc:\\users\\asus\\appdata\\local\\programs\\python\\python36\\lib\\urllib\\request.py\u001b[0m in \u001b[0;36murlopen\u001b[1;34m(url, data, timeout, cafile, capath, cadefault, context)\u001b[0m\n\u001b[0;32m    222\u001b[0m         \u001b[0mopener\u001b[0m \u001b[1;33m=\u001b[0m \u001b[0m_opener\u001b[0m\u001b[1;33m\u001b[0m\u001b[1;33m\u001b[0m\u001b[0m\n\u001b[1;32m--> 223\u001b[1;33m     \u001b[1;32mreturn\u001b[0m \u001b[0mopener\u001b[0m\u001b[1;33m.\u001b[0m\u001b[0mopen\u001b[0m\u001b[1;33m(\u001b[0m\u001b[0murl\u001b[0m\u001b[1;33m,\u001b[0m \u001b[0mdata\u001b[0m\u001b[1;33m,\u001b[0m \u001b[0mtimeout\u001b[0m\u001b[1;33m)\u001b[0m\u001b[1;33m\u001b[0m\u001b[1;33m\u001b[0m\u001b[0m\n\u001b[0m\u001b[0;32m    224\u001b[0m \u001b[1;33m\u001b[0m\u001b[0m\n",
      "\u001b[1;32mc:\\users\\asus\\appdata\\local\\programs\\python\\python36\\lib\\urllib\\request.py\u001b[0m in \u001b[0;36mopen\u001b[1;34m(self, fullurl, data, timeout)\u001b[0m\n\u001b[0;32m    525\u001b[0m \u001b[1;33m\u001b[0m\u001b[0m\n\u001b[1;32m--> 526\u001b[1;33m         \u001b[0mresponse\u001b[0m \u001b[1;33m=\u001b[0m \u001b[0mself\u001b[0m\u001b[1;33m.\u001b[0m\u001b[0m_open\u001b[0m\u001b[1;33m(\u001b[0m\u001b[0mreq\u001b[0m\u001b[1;33m,\u001b[0m \u001b[0mdata\u001b[0m\u001b[1;33m)\u001b[0m\u001b[1;33m\u001b[0m\u001b[1;33m\u001b[0m\u001b[0m\n\u001b[0m\u001b[0;32m    527\u001b[0m \u001b[1;33m\u001b[0m\u001b[0m\n",
      "\u001b[1;32mc:\\users\\asus\\appdata\\local\\programs\\python\\python36\\lib\\urllib\\request.py\u001b[0m in \u001b[0;36m_open\u001b[1;34m(self, req, data)\u001b[0m\n\u001b[0;32m    543\u001b[0m         result = self._call_chain(self.handle_open, protocol, protocol +\n\u001b[1;32m--> 544\u001b[1;33m                                   '_open', req)\n\u001b[0m\u001b[0;32m    545\u001b[0m         \u001b[1;32mif\u001b[0m \u001b[0mresult\u001b[0m\u001b[1;33m:\u001b[0m\u001b[1;33m\u001b[0m\u001b[1;33m\u001b[0m\u001b[0m\n",
      "\u001b[1;32mc:\\users\\asus\\appdata\\local\\programs\\python\\python36\\lib\\urllib\\request.py\u001b[0m in \u001b[0;36m_call_chain\u001b[1;34m(self, chain, kind, meth_name, *args)\u001b[0m\n\u001b[0;32m    503\u001b[0m             \u001b[0mfunc\u001b[0m \u001b[1;33m=\u001b[0m \u001b[0mgetattr\u001b[0m\u001b[1;33m(\u001b[0m\u001b[0mhandler\u001b[0m\u001b[1;33m,\u001b[0m \u001b[0mmeth_name\u001b[0m\u001b[1;33m)\u001b[0m\u001b[1;33m\u001b[0m\u001b[1;33m\u001b[0m\u001b[0m\n\u001b[1;32m--> 504\u001b[1;33m             \u001b[0mresult\u001b[0m \u001b[1;33m=\u001b[0m \u001b[0mfunc\u001b[0m\u001b[1;33m(\u001b[0m\u001b[1;33m*\u001b[0m\u001b[0margs\u001b[0m\u001b[1;33m)\u001b[0m\u001b[1;33m\u001b[0m\u001b[1;33m\u001b[0m\u001b[0m\n\u001b[0m\u001b[0;32m    505\u001b[0m             \u001b[1;32mif\u001b[0m \u001b[0mresult\u001b[0m \u001b[1;32mis\u001b[0m \u001b[1;32mnot\u001b[0m \u001b[1;32mNone\u001b[0m\u001b[1;33m:\u001b[0m\u001b[1;33m\u001b[0m\u001b[1;33m\u001b[0m\u001b[0m\n",
      "\u001b[1;32mc:\\users\\asus\\appdata\\local\\programs\\python\\python36\\lib\\urllib\\request.py\u001b[0m in \u001b[0;36mhttps_open\u001b[1;34m(self, req)\u001b[0m\n\u001b[0;32m   1360\u001b[0m             return self.do_open(http.client.HTTPSConnection, req,\n\u001b[1;32m-> 1361\u001b[1;33m                 context=self._context, check_hostname=self._check_hostname)\n\u001b[0m\u001b[0;32m   1362\u001b[0m \u001b[1;33m\u001b[0m\u001b[0m\n",
      "\u001b[1;32mc:\\users\\asus\\appdata\\local\\programs\\python\\python36\\lib\\urllib\\request.py\u001b[0m in \u001b[0;36mdo_open\u001b[1;34m(self, http_class, req, **http_conn_args)\u001b[0m\n\u001b[0;32m   1319\u001b[0m             \u001b[1;32mexcept\u001b[0m \u001b[0mOSError\u001b[0m \u001b[1;32mas\u001b[0m \u001b[0merr\u001b[0m\u001b[1;33m:\u001b[0m \u001b[1;31m# timeout error\u001b[0m\u001b[1;33m\u001b[0m\u001b[1;33m\u001b[0m\u001b[0m\n\u001b[1;32m-> 1320\u001b[1;33m                 \u001b[1;32mraise\u001b[0m \u001b[0mURLError\u001b[0m\u001b[1;33m(\u001b[0m\u001b[0merr\u001b[0m\u001b[1;33m)\u001b[0m\u001b[1;33m\u001b[0m\u001b[1;33m\u001b[0m\u001b[0m\n\u001b[0m\u001b[0;32m   1321\u001b[0m             \u001b[0mr\u001b[0m \u001b[1;33m=\u001b[0m \u001b[0mh\u001b[0m\u001b[1;33m.\u001b[0m\u001b[0mgetresponse\u001b[0m\u001b[1;33m(\u001b[0m\u001b[1;33m)\u001b[0m\u001b[1;33m\u001b[0m\u001b[1;33m\u001b[0m\u001b[0m\n",
      "\u001b[1;31mURLError\u001b[0m: <urlopen error [Errno 11001] getaddrinfo failed>",
      "\nDuring handling of the above exception, another exception occurred:\n",
      "\u001b[1;31mException\u001b[0m                                 Traceback (most recent call last)",
      "\u001b[1;32m<ipython-input-4-83f54b9be234>\u001b[0m in \u001b[0;36m<module>\u001b[1;34m\u001b[0m\n\u001b[1;32m----> 1\u001b[1;33m \u001b[0mvgg\u001b[0m \u001b[1;33m=\u001b[0m \u001b[0mVGG16\u001b[0m\u001b[1;33m(\u001b[0m\u001b[0minclude_top\u001b[0m\u001b[1;33m=\u001b[0m\u001b[1;32mFalse\u001b[0m\u001b[1;33m,\u001b[0m \u001b[0mweights\u001b[0m\u001b[1;33m=\u001b[0m\u001b[1;34m'imagenet'\u001b[0m\u001b[1;33m,\u001b[0m \u001b[0minput_shape\u001b[0m\u001b[1;33m=\u001b[0m\u001b[0mimage_size\u001b[0m\u001b[1;33m+\u001b[0m\u001b[1;33m[\u001b[0m\u001b[1;36m3\u001b[0m\u001b[1;33m]\u001b[0m\u001b[1;33m)\u001b[0m\u001b[1;33m\u001b[0m\u001b[1;33m\u001b[0m\u001b[0m\n\u001b[0m",
      "\u001b[1;32mc:\\users\\asus\\appdata\\local\\programs\\python\\python36\\lib\\site-packages\\keras\\applications\\__init__.py\u001b[0m in \u001b[0;36mwrapper\u001b[1;34m(*args, **kwargs)\u001b[0m\n\u001b[0;32m     26\u001b[0m             \u001b[0mkwargs\u001b[0m\u001b[1;33m[\u001b[0m\u001b[1;34m'models'\u001b[0m\u001b[1;33m]\u001b[0m \u001b[1;33m=\u001b[0m \u001b[0mmodels\u001b[0m\u001b[1;33m\u001b[0m\u001b[1;33m\u001b[0m\u001b[0m\n\u001b[0;32m     27\u001b[0m             \u001b[0mkwargs\u001b[0m\u001b[1;33m[\u001b[0m\u001b[1;34m'utils'\u001b[0m\u001b[1;33m]\u001b[0m \u001b[1;33m=\u001b[0m \u001b[0mutils\u001b[0m\u001b[1;33m\u001b[0m\u001b[1;33m\u001b[0m\u001b[0m\n\u001b[1;32m---> 28\u001b[1;33m         \u001b[1;32mreturn\u001b[0m \u001b[0mbase_fun\u001b[0m\u001b[1;33m(\u001b[0m\u001b[1;33m*\u001b[0m\u001b[0margs\u001b[0m\u001b[1;33m,\u001b[0m \u001b[1;33m**\u001b[0m\u001b[0mkwargs\u001b[0m\u001b[1;33m)\u001b[0m\u001b[1;33m\u001b[0m\u001b[1;33m\u001b[0m\u001b[0m\n\u001b[0m\u001b[0;32m     29\u001b[0m \u001b[1;33m\u001b[0m\u001b[0m\n\u001b[0;32m     30\u001b[0m     \u001b[1;32mreturn\u001b[0m \u001b[0mwrapper\u001b[0m\u001b[1;33m\u001b[0m\u001b[1;33m\u001b[0m\u001b[0m\n",
      "\u001b[1;32mc:\\users\\asus\\appdata\\local\\programs\\python\\python36\\lib\\site-packages\\keras\\applications\\vgg16.py\u001b[0m in \u001b[0;36mVGG16\u001b[1;34m(*args, **kwargs)\u001b[0m\n\u001b[0;32m      9\u001b[0m \u001b[1;33m@\u001b[0m\u001b[0mkeras_modules_injection\u001b[0m\u001b[1;33m\u001b[0m\u001b[1;33m\u001b[0m\u001b[0m\n\u001b[0;32m     10\u001b[0m \u001b[1;32mdef\u001b[0m \u001b[0mVGG16\u001b[0m\u001b[1;33m(\u001b[0m\u001b[1;33m*\u001b[0m\u001b[0margs\u001b[0m\u001b[1;33m,\u001b[0m \u001b[1;33m**\u001b[0m\u001b[0mkwargs\u001b[0m\u001b[1;33m)\u001b[0m\u001b[1;33m:\u001b[0m\u001b[1;33m\u001b[0m\u001b[1;33m\u001b[0m\u001b[0m\n\u001b[1;32m---> 11\u001b[1;33m     \u001b[1;32mreturn\u001b[0m \u001b[0mvgg16\u001b[0m\u001b[1;33m.\u001b[0m\u001b[0mVGG16\u001b[0m\u001b[1;33m(\u001b[0m\u001b[1;33m*\u001b[0m\u001b[0margs\u001b[0m\u001b[1;33m,\u001b[0m \u001b[1;33m**\u001b[0m\u001b[0mkwargs\u001b[0m\u001b[1;33m)\u001b[0m\u001b[1;33m\u001b[0m\u001b[1;33m\u001b[0m\u001b[0m\n\u001b[0m\u001b[0;32m     12\u001b[0m \u001b[1;33m\u001b[0m\u001b[0m\n\u001b[0;32m     13\u001b[0m \u001b[1;33m\u001b[0m\u001b[0m\n",
      "\u001b[1;32mc:\\users\\asus\\appdata\\local\\programs\\python\\python36\\lib\\site-packages\\keras_applications\\vgg16.py\u001b[0m in \u001b[0;36mVGG16\u001b[1;34m(include_top, weights, input_tensor, input_shape, pooling, classes, **kwargs)\u001b[0m\n\u001b[0;32m    207\u001b[0m                 \u001b[0mWEIGHTS_PATH_NO_TOP\u001b[0m\u001b[1;33m,\u001b[0m\u001b[1;33m\u001b[0m\u001b[1;33m\u001b[0m\u001b[0m\n\u001b[0;32m    208\u001b[0m                 \u001b[0mcache_subdir\u001b[0m\u001b[1;33m=\u001b[0m\u001b[1;34m'models'\u001b[0m\u001b[1;33m,\u001b[0m\u001b[1;33m\u001b[0m\u001b[1;33m\u001b[0m\u001b[0m\n\u001b[1;32m--> 209\u001b[1;33m                 file_hash='6d6bbae143d832006294945121d1f1fc')\n\u001b[0m\u001b[0;32m    210\u001b[0m         \u001b[0mmodel\u001b[0m\u001b[1;33m.\u001b[0m\u001b[0mload_weights\u001b[0m\u001b[1;33m(\u001b[0m\u001b[0mweights_path\u001b[0m\u001b[1;33m)\u001b[0m\u001b[1;33m\u001b[0m\u001b[1;33m\u001b[0m\u001b[0m\n\u001b[0;32m    211\u001b[0m         \u001b[1;32mif\u001b[0m \u001b[0mbackend\u001b[0m\u001b[1;33m.\u001b[0m\u001b[0mbackend\u001b[0m\u001b[1;33m(\u001b[0m\u001b[1;33m)\u001b[0m \u001b[1;33m==\u001b[0m \u001b[1;34m'theano'\u001b[0m\u001b[1;33m:\u001b[0m\u001b[1;33m\u001b[0m\u001b[1;33m\u001b[0m\u001b[0m\n",
      "\u001b[1;32mc:\\users\\asus\\appdata\\local\\programs\\python\\python36\\lib\\site-packages\\keras\\utils\\data_utils.py\u001b[0m in \u001b[0;36mget_file\u001b[1;34m(fname, origin, untar, md5_hash, file_hash, cache_subdir, hash_algorithm, extract, archive_format, cache_dir)\u001b[0m\n\u001b[0;32m    224\u001b[0m                 \u001b[1;32mraise\u001b[0m \u001b[0mException\u001b[0m\u001b[1;33m(\u001b[0m\u001b[0merror_msg\u001b[0m\u001b[1;33m.\u001b[0m\u001b[0mformat\u001b[0m\u001b[1;33m(\u001b[0m\u001b[0morigin\u001b[0m\u001b[1;33m,\u001b[0m \u001b[0me\u001b[0m\u001b[1;33m.\u001b[0m\u001b[0mcode\u001b[0m\u001b[1;33m,\u001b[0m \u001b[0me\u001b[0m\u001b[1;33m.\u001b[0m\u001b[0mmsg\u001b[0m\u001b[1;33m)\u001b[0m\u001b[1;33m)\u001b[0m\u001b[1;33m\u001b[0m\u001b[1;33m\u001b[0m\u001b[0m\n\u001b[0;32m    225\u001b[0m             \u001b[1;32mexcept\u001b[0m \u001b[0mURLError\u001b[0m \u001b[1;32mas\u001b[0m \u001b[0me\u001b[0m\u001b[1;33m:\u001b[0m\u001b[1;33m\u001b[0m\u001b[1;33m\u001b[0m\u001b[0m\n\u001b[1;32m--> 226\u001b[1;33m                 \u001b[1;32mraise\u001b[0m \u001b[0mException\u001b[0m\u001b[1;33m(\u001b[0m\u001b[0merror_msg\u001b[0m\u001b[1;33m.\u001b[0m\u001b[0mformat\u001b[0m\u001b[1;33m(\u001b[0m\u001b[0morigin\u001b[0m\u001b[1;33m,\u001b[0m \u001b[0me\u001b[0m\u001b[1;33m.\u001b[0m\u001b[0merrno\u001b[0m\u001b[1;33m,\u001b[0m \u001b[0me\u001b[0m\u001b[1;33m.\u001b[0m\u001b[0mreason\u001b[0m\u001b[1;33m)\u001b[0m\u001b[1;33m)\u001b[0m\u001b[1;33m\u001b[0m\u001b[1;33m\u001b[0m\u001b[0m\n\u001b[0m\u001b[0;32m    227\u001b[0m         \u001b[1;32mexcept\u001b[0m \u001b[1;33m(\u001b[0m\u001b[0mException\u001b[0m\u001b[1;33m,\u001b[0m \u001b[0mKeyboardInterrupt\u001b[0m\u001b[1;33m)\u001b[0m\u001b[1;33m:\u001b[0m\u001b[1;33m\u001b[0m\u001b[1;33m\u001b[0m\u001b[0m\n\u001b[0;32m    228\u001b[0m             \u001b[1;32mif\u001b[0m \u001b[0mos\u001b[0m\u001b[1;33m.\u001b[0m\u001b[0mpath\u001b[0m\u001b[1;33m.\u001b[0m\u001b[0mexists\u001b[0m\u001b[1;33m(\u001b[0m\u001b[0mfpath\u001b[0m\u001b[1;33m)\u001b[0m\u001b[1;33m:\u001b[0m\u001b[1;33m\u001b[0m\u001b[1;33m\u001b[0m\u001b[0m\n",
      "\u001b[1;31mException\u001b[0m: URL fetch failure on https://github.com/fchollet/deep-learning-models/releases/download/v0.1/vgg16_weights_tf_dim_ordering_tf_kernels_notop.h5: None -- [Errno 11001] getaddrinfo failed"
     ]
    }
   ],
   "source": [
    "vgg = VGG16(include_top=False, weights='imagenet', input_shape=image_size+[3])"
   ]
  },
  {
   "cell_type": "code",
   "execution_count": null,
   "metadata": {},
   "outputs": [],
   "source": [
    "for layer in range(len(vgg.layers)):\n",
    "    vgg.layers[layer].trainable = False"
   ]
  },
  {
   "cell_type": "code",
   "execution_count": 32,
   "metadata": {},
   "outputs": [],
   "source": [
    "x = Flatten()(vgg.output)"
   ]
  },
  {
   "cell_type": "code",
   "execution_count": 33,
   "metadata": {},
   "outputs": [],
   "source": [
    "\n",
    "prediction = Dense(3,activation ='softmax')(x)"
   ]
  },
  {
   "cell_type": "code",
   "execution_count": 34,
   "metadata": {},
   "outputs": [],
   "source": [
    "model = Model(inputs = vgg.input, outputs = prediction) "
   ]
  },
  {
   "cell_type": "code",
   "execution_count": 35,
   "metadata": {},
   "outputs": [
    {
     "name": "stdout",
     "output_type": "stream",
     "text": [
      "_________________________________________________________________\n",
      "Layer (type)                 Output Shape              Param #   \n",
      "=================================================================\n",
      "input_3 (InputLayer)         (None, 150, 150, 3)       0         \n",
      "_________________________________________________________________\n",
      "block1_conv1 (Conv2D)        (None, 150, 150, 64)      1792      \n",
      "_________________________________________________________________\n",
      "block1_conv2 (Conv2D)        (None, 150, 150, 64)      36928     \n",
      "_________________________________________________________________\n",
      "block1_pool (MaxPooling2D)   (None, 75, 75, 64)        0         \n",
      "_________________________________________________________________\n",
      "block2_conv1 (Conv2D)        (None, 75, 75, 128)       73856     \n",
      "_________________________________________________________________\n",
      "block2_conv2 (Conv2D)        (None, 75, 75, 128)       147584    \n",
      "_________________________________________________________________\n",
      "block2_pool (MaxPooling2D)   (None, 37, 37, 128)       0         \n",
      "_________________________________________________________________\n",
      "block3_conv1 (Conv2D)        (None, 37, 37, 256)       295168    \n",
      "_________________________________________________________________\n",
      "block3_conv2 (Conv2D)        (None, 37, 37, 256)       590080    \n",
      "_________________________________________________________________\n",
      "block3_conv3 (Conv2D)        (None, 37, 37, 256)       590080    \n",
      "_________________________________________________________________\n",
      "block3_pool (MaxPooling2D)   (None, 18, 18, 256)       0         \n",
      "_________________________________________________________________\n",
      "block4_conv1 (Conv2D)        (None, 18, 18, 512)       1180160   \n",
      "_________________________________________________________________\n",
      "block4_conv2 (Conv2D)        (None, 18, 18, 512)       2359808   \n",
      "_________________________________________________________________\n",
      "block4_conv3 (Conv2D)        (None, 18, 18, 512)       2359808   \n",
      "_________________________________________________________________\n",
      "block4_pool (MaxPooling2D)   (None, 9, 9, 512)         0         \n",
      "_________________________________________________________________\n",
      "block5_conv1 (Conv2D)        (None, 9, 9, 512)         2359808   \n",
      "_________________________________________________________________\n",
      "block5_conv2 (Conv2D)        (None, 9, 9, 512)         2359808   \n",
      "_________________________________________________________________\n",
      "block5_conv3 (Conv2D)        (None, 9, 9, 512)         2359808   \n",
      "_________________________________________________________________\n",
      "block5_pool (MaxPooling2D)   (None, 4, 4, 512)         0         \n",
      "_________________________________________________________________\n",
      "flatten_3 (Flatten)          (None, 8192)              0         \n",
      "_________________________________________________________________\n",
      "dense_3 (Dense)              (None, 3)                 24579     \n",
      "=================================================================\n",
      "Total params: 14,739,267\n",
      "Trainable params: 24,579\n",
      "Non-trainable params: 14,714,688\n",
      "_________________________________________________________________\n"
     ]
    }
   ],
   "source": [
    "model.summary()"
   ]
  },
  {
   "cell_type": "code",
   "execution_count": 36,
   "metadata": {},
   "outputs": [],
   "source": [
    "model.compile(loss = 'categorical_crossentropy', optimizer='adam',metrics=['accuracy'])"
   ]
  },
  {
   "cell_type": "code",
   "execution_count": 37,
   "metadata": {},
   "outputs": [],
   "source": [
    "gen = ImageDataGenerator(rotation_range=2, width_shift_range=0.01,\n",
    "                                   height_shift_range=0.01, shear_range=0.02,\n",
    "                                   zoom_range=0.03, \n",
    "                                   horizontal_flip=True, vertical_flip = True)\n"
   ]
  },
  {
   "cell_type": "code",
   "execution_count": 38,
   "metadata": {},
   "outputs": [
    {
     "name": "stdout",
     "output_type": "stream",
     "text": [
      "Found 256 images belonging to 3 classes.\n",
      "Found 86 images belonging to 3 classes.\n"
     ]
    }
   ],
   "source": [
    "data = gen.flow_from_directory('dataset/train',batch_size = 32,target_size=(100, 100))\n",
    "valid = gen.flow_from_directory('dataset/test',batch_size = 32,target_size=(100, 100))"
   ]
  },
  {
   "cell_type": "code",
   "execution_count": 39,
   "metadata": {},
   "outputs": [
    {
     "name": "stdout",
     "output_type": "stream",
     "text": [
      "Epoch 1/100\n",
      "1000/1000 [==============================] - 209s 209ms/step - loss: 0.0360 - acc: 0.9947 - val_loss: 0.0385 - val_acc: 0.9920\n",
      "Epoch 2/100\n",
      "1000/1000 [==============================] - 212s 212ms/step - loss: 1.5873e-05 - acc: 1.0000 - val_loss: 0.0346 - val_acc: 0.9913\n",
      "Epoch 3/100\n",
      "1000/1000 [==============================] - 216s 216ms/step - loss: 3.7450e-06 - acc: 1.0000 - val_loss: 0.0344 - val_acc: 0.9902\n",
      "Epoch 4/100\n",
      "1000/1000 [==============================] - 216s 216ms/step - loss: 1.3546e-06 - acc: 1.0000 - val_loss: 0.0283 - val_acc: 0.9930\n",
      "Epoch 5/100\n",
      "1000/1000 [==============================] - 216s 216ms/step - loss: 3.4732e-06 - acc: 1.0000 - val_loss: 0.0325 - val_acc: 0.9890\n",
      "Epoch 6/100\n",
      "1000/1000 [==============================] - 216s 216ms/step - loss: 7.5209e-07 - acc: 1.0000 - val_loss: 0.0331 - val_acc: 0.9911\n",
      "Epoch 7/100\n",
      "1000/1000 [==============================] - 216s 216ms/step - loss: 1.3025e-06 - acc: 1.0000 - val_loss: 0.0341 - val_acc: 0.9895\n",
      "Epoch 8/100\n",
      "1000/1000 [==============================] - 215s 215ms/step - loss: 2.9767e-07 - acc: 1.0000 - val_loss: 0.0351 - val_acc: 0.9908\n",
      "Epoch 9/100\n",
      "1000/1000 [==============================] - 216s 216ms/step - loss: 2.6884e-07 - acc: 1.0000 - val_loss: 0.0219 - val_acc: 0.9937\n",
      "Epoch 10/100\n",
      "1000/1000 [==============================] - 218s 218ms/step - loss: 2.0525e-07 - acc: 1.0000 - val_loss: 0.0246 - val_acc: 0.9934\n",
      "Epoch 11/100\n",
      "1000/1000 [==============================] - 223s 223ms/step - loss: 1.8866e-07 - acc: 1.0000 - val_loss: 0.0299 - val_acc: 0.9925\n",
      "Epoch 12/100\n",
      "1000/1000 [==============================] - 215s 215ms/step - loss: 1.5424e-07 - acc: 1.0000 - val_loss: 0.0284 - val_acc: 0.9923\n",
      "Epoch 13/100\n",
      "1000/1000 [==============================] - 218s 218ms/step - loss: 1.4910e-07 - acc: 1.0000 - val_loss: 0.0232 - val_acc: 0.9930\n",
      "Epoch 14/100\n",
      "1000/1000 [==============================] - 215s 215ms/step - loss: 1.4274e-07 - acc: 1.0000 - val_loss: 0.0300 - val_acc: 0.9927\n",
      "Epoch 15/100\n",
      "1000/1000 [==============================] - 226s 226ms/step - loss: 0.0305 - acc: 0.9971 - val_loss: 0.1066 - val_acc: 0.9895\n",
      "Epoch 16/100\n",
      "1000/1000 [==============================] - 219s 219ms/step - loss: 3.1821e-05 - acc: 1.0000 - val_loss: 0.1262 - val_acc: 0.9887\n",
      "Epoch 17/100\n",
      "1000/1000 [==============================] - 218s 218ms/step - loss: 4.5634e-07 - acc: 1.0000 - val_loss: 0.1176 - val_acc: 0.9881\n",
      "Epoch 18/100\n",
      "1000/1000 [==============================] - 217s 217ms/step - loss: 3.3226e-07 - acc: 1.0000 - val_loss: 0.1301 - val_acc: 0.9880\n",
      "Epoch 19/100\n",
      "1000/1000 [==============================] - 212s 212ms/step - loss: 0.0022 - acc: 0.9998 - val_loss: 0.1141 - val_acc: 0.9895\n",
      "Epoch 20/100\n",
      "1000/1000 [==============================] - 214s 214ms/step - loss: 0.0135 - acc: 0.9987 - val_loss: 0.0700 - val_acc: 0.9937\n",
      "Epoch 21/100\n",
      "1000/1000 [==============================] - 221s 221ms/step - loss: 1.1921e-07 - acc: 1.0000 - val_loss: 0.1119 - val_acc: 0.9909\n",
      "Epoch 22/100\n",
      "1000/1000 [==============================] - 220s 220ms/step - loss: 1.2090e-07 - acc: 1.0000 - val_loss: 0.1003 - val_acc: 0.9923\n",
      "Epoch 23/100\n",
      "1000/1000 [==============================] - 216s 216ms/step - loss: 1.1975e-07 - acc: 1.0000 - val_loss: 0.0664 - val_acc: 0.9948\n",
      "Epoch 24/100\n",
      "1000/1000 [==============================] - 219s 219ms/step - loss: 1.1921e-07 - acc: 1.0000 - val_loss: 0.0566 - val_acc: 0.9942\n",
      "Epoch 25/100\n",
      "1000/1000 [==============================] - 222s 222ms/step - loss: 1.1924e-07 - acc: 1.0000 - val_loss: 0.0828 - val_acc: 0.9934\n",
      "Epoch 26/100\n",
      "1000/1000 [==============================] - 220s 220ms/step - loss: 0.0357 - acc: 0.9974 - val_loss: 0.0254 - val_acc: 0.9976\n",
      "Epoch 27/100\n",
      "1000/1000 [==============================] - 217s 217ms/step - loss: 0.0014 - acc: 0.9998 - val_loss: 0.1130 - val_acc: 0.9913\n",
      "Epoch 28/100\n",
      "1000/1000 [==============================] - 220s 220ms/step - loss: 1.2487e-07 - acc: 1.0000 - val_loss: 0.1115 - val_acc: 0.9906\n",
      "Epoch 29/100\n",
      "1000/1000 [==============================] - 226s 226ms/step - loss: 1.1921e-07 - acc: 1.0000 - val_loss: 0.0909 - val_acc: 0.9914\n",
      "Epoch 30/100\n",
      "1000/1000 [==============================] - 227s 227ms/step - loss: 1.1921e-07 - acc: 1.0000 - val_loss: 0.1219 - val_acc: 0.9902\n",
      "Epoch 31/100\n",
      "1000/1000 [==============================] - 221s 221ms/step - loss: 1.1928e-07 - acc: 1.0000 - val_loss: 0.1183 - val_acc: 0.9909\n",
      "Epoch 32/100\n",
      "1000/1000 [==============================] - 218s 218ms/step - loss: 1.1956e-07 - acc: 1.0000 - val_loss: 0.0806 - val_acc: 0.9928\n",
      "Epoch 33/100\n",
      "1000/1000 [==============================] - 227s 227ms/step - loss: 0.0042 - acc: 0.9996 - val_loss: 0.1315 - val_acc: 0.9901\n",
      "Epoch 34/100\n",
      "1000/1000 [==============================] - 228s 228ms/step - loss: 0.0021 - acc: 0.9997 - val_loss: 0.1531 - val_acc: 0.9885\n",
      "Epoch 35/100\n",
      "1000/1000 [==============================] - 219s 219ms/step - loss: 1.0192e-06 - acc: 1.0000 - val_loss: 0.1344 - val_acc: 0.9904\n",
      "Epoch 36/100\n",
      "1000/1000 [==============================] - 226s 226ms/step - loss: 1.1928e-07 - acc: 1.0000 - val_loss: 0.1147 - val_acc: 0.9916\n",
      "Epoch 37/100\n",
      "1000/1000 [==============================] - 219s 219ms/step - loss: 1.3106e-07 - acc: 1.0000 - val_loss: 0.1104 - val_acc: 0.9916\n",
      "Epoch 38/100\n",
      "1000/1000 [==============================] - 231s 231ms/step - loss: 0.0059 - acc: 0.9994 - val_loss: 0.1171 - val_acc: 0.9916\n",
      "Epoch 39/100\n",
      "1000/1000 [==============================] - 221s 221ms/step - loss: 1.2293e-06 - acc: 1.0000 - val_loss: 0.1053 - val_acc: 0.9927\n",
      "Epoch 40/100\n",
      "1000/1000 [==============================] - 219s 219ms/step - loss: 0.0059 - acc: 0.9996 - val_loss: 0.0926 - val_acc: 0.9932\n",
      "Epoch 41/100\n",
      "1000/1000 [==============================] - 221s 221ms/step - loss: 1.1965e-07 - acc: 1.0000 - val_loss: 0.0844 - val_acc: 0.9937\n",
      "Epoch 42/100\n",
      "1000/1000 [==============================] - 223s 223ms/step - loss: 0.0067 - acc: 0.9994 - val_loss: 0.1568 - val_acc: 0.9876\n",
      "Epoch 43/100\n",
      "1000/1000 [==============================] - 219s 219ms/step - loss: 2.9806e-07 - acc: 1.0000 - val_loss: 0.1235 - val_acc: 0.9908\n",
      "Epoch 44/100\n",
      "1000/1000 [==============================] - 230s 230ms/step - loss: 1.1921e-07 - acc: 1.0000 - val_loss: 0.1260 - val_acc: 0.9906\n",
      "Epoch 45/100\n",
      "1000/1000 [==============================] - 228s 228ms/step - loss: 1.3589e-07 - acc: 1.0000 - val_loss: 0.1341 - val_acc: 0.9908\n",
      "Epoch 46/100\n",
      "1000/1000 [==============================] - 230s 230ms/step - loss: 1.1921e-07 - acc: 1.0000 - val_loss: 0.1325 - val_acc: 0.9894\n",
      "Epoch 47/100\n",
      "1000/1000 [==============================] - 231s 231ms/step - loss: 1.1938e-07 - acc: 1.0000 - val_loss: 0.1349 - val_acc: 0.9902\n",
      "Epoch 48/100\n",
      "1000/1000 [==============================] - 230s 230ms/step - loss: 1.1921e-07 - acc: 1.0000 - val_loss: 0.1509 - val_acc: 0.9888\n",
      "Epoch 49/100\n",
      "1000/1000 [==============================] - 233s 233ms/step - loss: 1.2438e-07 - acc: 1.0000 - val_loss: 0.1550 - val_acc: 0.9890\n",
      "Epoch 50/100\n",
      "1000/1000 [==============================] - 230s 230ms/step - loss: 1.1921e-07 - acc: 1.0000 - val_loss: 0.1245 - val_acc: 0.9908\n",
      "Epoch 51/100\n",
      "1000/1000 [==============================] - 233s 233ms/step - loss: 1.1921e-07 - acc: 1.0000 - val_loss: 0.1194 - val_acc: 0.9911\n",
      "Epoch 52/100\n",
      "1000/1000 [==============================] - 224s 224ms/step - loss: 1.1921e-07 - acc: 1.0000 - val_loss: 0.1615 - val_acc: 0.9883\n",
      "Epoch 53/100\n",
      "1000/1000 [==============================] - 231s 231ms/step - loss: 1.1921e-07 - acc: 1.0000 - val_loss: 0.1634 - val_acc: 0.9885\n",
      "Epoch 54/100\n",
      "1000/1000 [==============================] - 231s 231ms/step - loss: 1.1921e-07 - acc: 1.0000 - val_loss: 0.1189 - val_acc: 0.9906\n",
      "Epoch 55/100\n",
      "1000/1000 [==============================] - 234s 234ms/step - loss: 1.1921e-07 - acc: 1.0000 - val_loss: 0.1607 - val_acc: 0.9880\n",
      "Epoch 56/100\n",
      "1000/1000 [==============================] - 224s 224ms/step - loss: 1.1921e-07 - acc: 1.0000 - val_loss: 0.1303 - val_acc: 0.9899\n",
      "Epoch 57/100\n",
      "1000/1000 [==============================] - 236s 236ms/step - loss: 1.1921e-07 - acc: 1.0000 - val_loss: 0.1283 - val_acc: 0.9908\n",
      "Epoch 58/100\n",
      "1000/1000 [==============================] - 228s 228ms/step - loss: 1.1926e-07 - acc: 1.0000 - val_loss: 0.1052 - val_acc: 0.9922\n",
      "Epoch 59/100\n",
      "1000/1000 [==============================] - 239s 239ms/step - loss: 1.1921e-07 - acc: 1.0000 - val_loss: 0.1469 - val_acc: 0.9899\n",
      "Epoch 60/100\n",
      "1000/1000 [==============================] - 227s 227ms/step - loss: 1.1921e-07 - acc: 1.0000 - val_loss: 0.1279 - val_acc: 0.9906\n",
      "Epoch 61/100\n",
      "1000/1000 [==============================] - 229s 229ms/step - loss: 1.1921e-07 - acc: 1.0000 - val_loss: 0.1269 - val_acc: 0.9899\n",
      "Epoch 62/100\n",
      "1000/1000 [==============================] - 237s 237ms/step - loss: 1.1921e-07 - acc: 1.0000 - val_loss: 0.1616 - val_acc: 0.9890\n",
      "Epoch 63/100\n",
      "1000/1000 [==============================] - 227s 227ms/step - loss: 1.1921e-07 - acc: 1.0000 - val_loss: 0.1146 - val_acc: 0.9913\n",
      "Epoch 64/100\n",
      "1000/1000 [==============================] - 236s 236ms/step - loss: 1.1921e-07 - acc: 1.0000 - val_loss: 0.1517 - val_acc: 0.9889\n",
      "Epoch 65/100\n",
      "1000/1000 [==============================] - 232s 232ms/step - loss: 0.0033 - acc: 0.9997 - val_loss: 0.1082 - val_acc: 0.9916\n",
      "Epoch 66/100\n",
      "1000/1000 [==============================] - 229s 229ms/step - loss: 1.1921e-07 - acc: 1.0000 - val_loss: 0.1113 - val_acc: 0.9904\n",
      "Epoch 67/100\n",
      "1000/1000 [==============================] - 230s 230ms/step - loss: 1.3149e-07 - acc: 1.0000 - val_loss: 0.1295 - val_acc: 0.9908\n",
      "Epoch 68/100\n",
      "1000/1000 [==============================] - 238s 238ms/step - loss: 1.1921e-07 - acc: 1.0000 - val_loss: 0.1300 - val_acc: 0.9904\n",
      "Epoch 69/100\n",
      "1000/1000 [==============================] - 227s 227ms/step - loss: 1.1921e-07 - acc: 1.0000 - val_loss: 0.0971 - val_acc: 0.9932\n",
      "Epoch 70/100\n",
      "1000/1000 [==============================] - 231s 231ms/step - loss: 1.1927e-07 - acc: 1.0000 - val_loss: 0.1115 - val_acc: 0.9918\n",
      "Epoch 71/100\n",
      "1000/1000 [==============================] - 231s 231ms/step - loss: 1.1921e-07 - acc: 1.0000 - val_loss: 0.1159 - val_acc: 0.9914\n",
      "Epoch 72/100\n",
      "1000/1000 [==============================] - 230s 230ms/step - loss: 1.1921e-07 - acc: 1.0000 - val_loss: 0.1269 - val_acc: 0.9913\n",
      "Epoch 73/100\n",
      "1000/1000 [==============================] - 240s 240ms/step - loss: 1.1921e-07 - acc: 1.0000 - val_loss: 0.1093 - val_acc: 0.9920\n",
      "Epoch 74/100\n",
      "1000/1000 [==============================] - 236s 236ms/step - loss: 1.1921e-07 - acc: 1.0000 - val_loss: 0.1056 - val_acc: 0.9925\n",
      "Epoch 75/100\n",
      "1000/1000 [==============================] - 245s 245ms/step - loss: 1.1921e-07 - acc: 1.0000 - val_loss: 0.0917 - val_acc: 0.9935\n",
      "Epoch 76/100\n",
      "1000/1000 [==============================] - 231s 231ms/step - loss: 1.1921e-07 - acc: 1.0000 - val_loss: 0.1371 - val_acc: 0.9902\n",
      "Epoch 77/100\n",
      "1000/1000 [==============================] - 239s 239ms/step - loss: 1.1921e-07 - acc: 1.0000 - val_loss: 0.1095 - val_acc: 0.9921\n",
      "Epoch 78/100\n",
      "1000/1000 [==============================] - 229s 229ms/step - loss: 1.1921e-07 - acc: 1.0000 - val_loss: 0.0755 - val_acc: 0.9946\n",
      "Epoch 79/100\n",
      "1000/1000 [==============================] - 233s 233ms/step - loss: 1.1921e-07 - acc: 1.0000 - val_loss: 0.1102 - val_acc: 0.9918\n",
      "Epoch 80/100\n",
      "1000/1000 [==============================] - 235s 235ms/step - loss: 1.1921e-07 - acc: 1.0000 - val_loss: 0.1232 - val_acc: 0.9913\n",
      "Epoch 81/100\n",
      "1000/1000 [==============================] - 232s 232ms/step - loss: 1.1921e-07 - acc: 1.0000 - val_loss: 0.1078 - val_acc: 0.9925\n",
      "Epoch 82/100\n",
      "1000/1000 [==============================] - 232s 232ms/step - loss: 1.1921e-07 - acc: 1.0000 - val_loss: 0.1242 - val_acc: 0.9909\n",
      "Epoch 83/100\n",
      "1000/1000 [==============================] - 230s 230ms/step - loss: 1.1921e-07 - acc: 1.0000 - val_loss: 0.1118 - val_acc: 0.9918\n",
      "Epoch 84/100\n",
      "1000/1000 [==============================] - 236s 236ms/step - loss: 1.1921e-07 - acc: 1.0000 - val_loss: 0.1136 - val_acc: 0.9913\n",
      "Epoch 85/100\n",
      "1000/1000 [==============================] - 234s 234ms/step - loss: 1.1921e-07 - acc: 1.0000 - val_loss: 0.1273 - val_acc: 0.9908\n",
      "Epoch 86/100\n",
      "1000/1000 [==============================] - 230s 230ms/step - loss: 1.1921e-07 - acc: 1.0000 - val_loss: 0.1119 - val_acc: 0.9923\n",
      "Epoch 87/100\n",
      "1000/1000 [==============================] - 239s 239ms/step - loss: 1.1921e-07 - acc: 1.0000 - val_loss: 0.1020 - val_acc: 0.9927\n",
      "Epoch 88/100\n",
      "1000/1000 [==============================] - 230s 230ms/step - loss: 1.1921e-07 - acc: 1.0000 - val_loss: 0.1251 - val_acc: 0.9911\n",
      "Epoch 89/100\n",
      "1000/1000 [==============================] - 232s 232ms/step - loss: 1.1921e-07 - acc: 1.0000 - val_loss: 0.1163 - val_acc: 0.9923\n",
      "Epoch 90/100\n",
      "1000/1000 [==============================] - 232s 232ms/step - loss: 1.1921e-07 - acc: 1.0000 - val_loss: 0.1363 - val_acc: 0.9904\n",
      "Epoch 91/100\n",
      "1000/1000 [==============================] - 240s 240ms/step - loss: 1.1921e-07 - acc: 1.0000 - val_loss: 0.1350 - val_acc: 0.9901\n",
      "Epoch 92/100\n",
      "1000/1000 [==============================] - 232s 232ms/step - loss: 1.1921e-07 - acc: 1.0000 - val_loss: 0.1050 - val_acc: 0.9923\n",
      "Epoch 93/100\n",
      "1000/1000 [==============================] - 232s 232ms/step - loss: 1.1921e-07 - acc: 1.0000 - val_loss: 0.1202 - val_acc: 0.9913\n",
      "Epoch 94/100\n",
      "1000/1000 [==============================] - 231s 231ms/step - loss: 1.1921e-07 - acc: 1.0000 - val_loss: 0.1315 - val_acc: 0.9902\n",
      "Epoch 95/100\n",
      "1000/1000 [==============================] - 232s 232ms/step - loss: 1.1921e-07 - acc: 1.0000 - val_loss: 0.1323 - val_acc: 0.9902\n",
      "Epoch 96/100\n",
      "1000/1000 [==============================] - 240s 240ms/step - loss: 1.1921e-07 - acc: 1.0000 - val_loss: 0.1192 - val_acc: 0.9911\n",
      "Epoch 97/100\n",
      "1000/1000 [==============================] - 233s 233ms/step - loss: 1.1921e-07 - acc: 1.0000 - val_loss: 0.1050 - val_acc: 0.9930\n",
      "Epoch 98/100\n",
      "1000/1000 [==============================] - 232s 232ms/step - loss: 1.1921e-07 - acc: 1.0000 - val_loss: 0.1185 - val_acc: 0.9916\n",
      "Epoch 99/100\n",
      "1000/1000 [==============================] - 240s 240ms/step - loss: 1.1921e-07 - acc: 1.0000 - val_loss: 0.0855 - val_acc: 0.9939\n",
      "Epoch 100/100\n",
      "1000/1000 [==============================] - 233s 233ms/step - loss: 1.1921e-07 - acc: 1.0000 - val_loss: 0.1138 - val_acc: 0.9918\n"
     ]
    },
    {
     "data": {
      "text/plain": [
       "<keras.callbacks.History at 0x2645d66b3c8>"
      ]
     },
     "execution_count": 39,
     "metadata": {},
     "output_type": "execute_result"
    }
   ],
   "source": [
    "model.fit_generator(data,epochs = 12, validation_data=valid,steps_per_epoch=1000,validation_steps = 200,verbose=1)"
   ]
  },
  {
   "cell_type": "code",
   "execution_count": 40,
   "metadata": {},
   "outputs": [
    {
     "name": "stdout",
     "output_type": "stream",
     "text": [
      "Saved model to disk\n"
     ]
    }
   ],
   "source": [
    "model_json = model.to_json()\n",
    "with open(\"model.json\", \"w\") as json_file:\n",
    "    json_file.write(model_json)\n",
    "model.save_weights(\"model.h5\")\n",
    "print(\"Saved model to disk\")"
   ]
  },
  {
   "cell_type": "code",
   "execution_count": null,
   "metadata": {},
   "outputs": [],
   "source": []
  },
  {
   "cell_type": "code",
   "execution_count": null,
   "metadata": {},
   "outputs": [],
   "source": []
  }
 ],
 "metadata": {
  "kernelspec": {
   "display_name": "Python 3",
   "language": "python",
   "name": "python3"
  },
  "language_info": {
   "codemirror_mode": {
    "name": "ipython",
    "version": 3
   },
   "file_extension": ".py",
   "mimetype": "text/x-python",
   "name": "python",
   "nbconvert_exporter": "python",
   "pygments_lexer": "ipython3",
   "version": "3.6.7"
  }
 },
 "nbformat": 4,
 "nbformat_minor": 2
}
